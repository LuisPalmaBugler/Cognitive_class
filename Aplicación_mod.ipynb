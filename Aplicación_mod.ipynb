$ git clone --bare https://gist.github.com/dda5cfc0f1f2d19570b4a43e4c11fbfd.git
